{
 "cells": [
  {
   "cell_type": "markdown",
   "id": "03836f00-f251-48a0-95c3-99a1bb06b594",
   "metadata": {},
   "source": [
    "Title: Predicting Heart Disease Using K-nearest Neighbour Classification Algorithm"
   ]
  },
  {
   "cell_type": "markdown",
   "id": "0c533b88-e1ba-4e4a-87a8-8b751d2381fd",
   "metadata": {},
   "source": [
    "Introduction:\n",
    "Heart disease is a leading cause of death worldwide. This project seeks to answer the question: \"Can we use k-nearest neighbour classification algorithm techniques to predict the presence of heart disease in a patient based on various health indicators?\" We plan to use the Cleveland Heart Disease Database from the UCI Machine Learning Repository. This database includes 303 instances and 14 attributes, including demographic, symptom, and test result data. However, we will focus on: age, chest pain type, resting blood pressure, serum cholesterol, fasting blood sugar, resting EKG results, maximum heart rate achieved, exercise-induced angina, ST depression induced by exercise, slope of the peak exercise ST segment, number of major vessels colored by fluoroscopy, thalassemia, and diagnosis of heart disease. These attributes are important factors which may relate to the heart-disease."
   ]
  },
  {
   "cell_type": "markdown",
   "id": "e5af5e31-3f94-4ee2-95a0-bd01c66c3f61",
   "metadata": {},
   "source": []
  }
 ],
 "metadata": {
  "kernelspec": {
   "display_name": "R",
   "language": "R",
   "name": "ir"
  },
  "language_info": {
   "codemirror_mode": "r",
   "file_extension": ".r",
   "mimetype": "text/x-r-source",
   "name": "R",
   "pygments_lexer": "r",
   "version": "4.1.3"
  }
 },
 "nbformat": 4,
 "nbformat_minor": 5
}
