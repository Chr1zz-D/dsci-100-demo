{
 "cells": [
  {
   "cell_type": "markdown",
   "id": "03836f00-f251-48a0-95c3-99a1bb06b594",
   "metadata": {},
   "source": [
    "Title: Predicting Heart Disease Using K-nearest Neighbour Classification Algorithm"
   ]
  },
  {
   "cell_type": "markdown",
   "id": "0c533b88-e1ba-4e4a-87a8-8b751d2381fd",
   "metadata": {},
   "source": [
    "Introduction:\n",
    "Heart disease is a leading cause of death worldwide. This project seeks to answer the question: \"Can we use k-nearest neighbour classification algorithm techniques to predict the presence of heart disease in a patient based on various health indicators?\" We plan to use the Cleveland Heart Disease Database from the UCI Machine Learning Repository. This database includes 303 instances and 14 attributes, including demographic, symptom, and test result data. However, we will focus on: age, chest pain type, resting blood pressure, serum cholesterol, fasting blood sugar, resting EKG results, maximum heart rate achieved, exercise-induced angina, ST depression induced by exercise, slope of the peak exercise ST segment, number of major vessels colored by fluoroscopy, thalassemia, and diagnosis of heart disease. These attributes are important factors which may relate to the heart-disease."
   ]
  },
  {
   "cell_type": "code",
   "execution_count": 3,
   "id": "fab42d17-e5a3-4ae4-bca2-c7ff86e84dfb",
   "metadata": {},
   "outputs": [
    {
     "name": "stderr",
     "output_type": "stream",
     "text": [
      "── \u001b[1mAttaching packages\u001b[22m ─────────────────────────────────────── tidyverse 1.3.1 ──\n",
      "\n",
      "\u001b[32m✔\u001b[39m \u001b[34mggplot2\u001b[39m 3.3.6     \u001b[32m✔\u001b[39m \u001b[34mpurrr  \u001b[39m 0.3.4\n",
      "\u001b[32m✔\u001b[39m \u001b[34mtibble \u001b[39m 3.1.7     \u001b[32m✔\u001b[39m \u001b[34mdplyr  \u001b[39m 1.0.9\n",
      "\u001b[32m✔\u001b[39m \u001b[34mtidyr  \u001b[39m 1.2.0     \u001b[32m✔\u001b[39m \u001b[34mstringr\u001b[39m 1.4.0\n",
      "\u001b[32m✔\u001b[39m \u001b[34mreadr  \u001b[39m 2.1.2     \u001b[32m✔\u001b[39m \u001b[34mforcats\u001b[39m 0.5.1\n",
      "\n",
      "── \u001b[1mConflicts\u001b[22m ────────────────────────────────────────── tidyverse_conflicts() ──\n",
      "\u001b[31m✖\u001b[39m \u001b[34mdplyr\u001b[39m::\u001b[32mfilter()\u001b[39m masks \u001b[34mstats\u001b[39m::filter()\n",
      "\u001b[31m✖\u001b[39m \u001b[34mdplyr\u001b[39m::\u001b[32mlag()\u001b[39m    masks \u001b[34mstats\u001b[39m::lag()\n",
      "\n",
      "── \u001b[1mAttaching packages\u001b[22m ────────────────────────────────────── tidymodels 1.0.0 ──\n",
      "\n",
      "\u001b[32m✔\u001b[39m \u001b[34mbroom       \u001b[39m 1.0.0     \u001b[32m✔\u001b[39m \u001b[34mrsample     \u001b[39m 1.0.0\n",
      "\u001b[32m✔\u001b[39m \u001b[34mdials       \u001b[39m 1.0.0     \u001b[32m✔\u001b[39m \u001b[34mtune        \u001b[39m 1.0.0\n",
      "\u001b[32m✔\u001b[39m \u001b[34minfer       \u001b[39m 1.0.2     \u001b[32m✔\u001b[39m \u001b[34mworkflows   \u001b[39m 1.0.0\n",
      "\u001b[32m✔\u001b[39m \u001b[34mmodeldata   \u001b[39m 1.0.0     \u001b[32m✔\u001b[39m \u001b[34mworkflowsets\u001b[39m 1.0.0\n",
      "\u001b[32m✔\u001b[39m \u001b[34mparsnip     \u001b[39m 1.0.0     \u001b[32m✔\u001b[39m \u001b[34myardstick   \u001b[39m 1.0.0\n",
      "\u001b[32m✔\u001b[39m \u001b[34mrecipes     \u001b[39m 1.0.1     \n",
      "\n",
      "── \u001b[1mConflicts\u001b[22m ───────────────────────────────────────── tidymodels_conflicts() ──\n",
      "\u001b[31m✖\u001b[39m \u001b[34mscales\u001b[39m::\u001b[32mdiscard()\u001b[39m masks \u001b[34mpurrr\u001b[39m::discard()\n",
      "\u001b[31m✖\u001b[39m \u001b[34mdplyr\u001b[39m::\u001b[32mfilter()\u001b[39m   masks \u001b[34mstats\u001b[39m::filter()\n",
      "\u001b[31m✖\u001b[39m \u001b[34mrecipes\u001b[39m::\u001b[32mfixed()\u001b[39m  masks \u001b[34mstringr\u001b[39m::fixed()\n",
      "\u001b[31m✖\u001b[39m \u001b[34mdplyr\u001b[39m::\u001b[32mlag()\u001b[39m      masks \u001b[34mstats\u001b[39m::lag()\n",
      "\u001b[31m✖\u001b[39m \u001b[34myardstick\u001b[39m::\u001b[32mspec()\u001b[39m masks \u001b[34mreadr\u001b[39m::spec()\n",
      "\u001b[31m✖\u001b[39m \u001b[34mrecipes\u001b[39m::\u001b[32mstep()\u001b[39m   masks \u001b[34mstats\u001b[39m::step()\n",
      "\u001b[34m•\u001b[39m Dig deeper into tidy modeling with R at \u001b[32mhttps://www.tmwr.org\u001b[39m\n",
      "\n"
     ]
    }
   ],
   "source": [
    "library(tidyverse)\n",
    "library(repr)\n",
    "library(tidymodels)\n",
    "options(repr.matrix.max.rows = 6)"
   ]
  },
  {
   "cell_type": "code",
   "execution_count": 4,
   "id": "ba85af3d-b8ec-4d3b-9289-0ca3d92d7d5c",
   "metadata": {},
   "outputs": [
    {
     "name": "stderr",
     "output_type": "stream",
     "text": [
      "\u001b[1mRows: \u001b[22m\u001b[34m303\u001b[39m \u001b[1mColumns: \u001b[22m\u001b[34m14\u001b[39m\n",
      "\u001b[36m──\u001b[39m \u001b[1mColumn specification\u001b[22m \u001b[36m────────────────────────────────────────────────────────\u001b[39m\n",
      "\u001b[1mDelimiter:\u001b[22m \",\"\n",
      "\u001b[32mdbl\u001b[39m (14): age, sex, cp, trestbps, chol, fbs, restecg, thalach, exang, oldpea...\n",
      "\n",
      "\u001b[36mℹ\u001b[39m Use `spec()` to retrieve the full column specification for this data.\n",
      "\u001b[36mℹ\u001b[39m Specify the column types or set `show_col_types = FALSE` to quiet this message.\n"
     ]
    },
    {
     "data": {
      "text/html": [
       "<table class=\"dataframe\">\n",
       "<caption>A tibble: 303 × 17</caption>\n",
       "<thead>\n",
       "\t<tr><th scope=col>age</th><th scope=col>sex</th><th scope=col>cp</th><th scope=col>trestbps</th><th scope=col>chol</th><th scope=col>fbs</th><th scope=col>restecg</th><th scope=col>thalach</th><th scope=col>exang</th><th scope=col>oldpeak</th><th scope=col>slope</th><th scope=col>ca</th><th scope=col>thal</th><th scope=col>target</th><th scope=col>scaled_chol</th><th scope=col>scaled_oldpeak</th><th scope=col>scaled_thalach</th></tr>\n",
       "\t<tr><th scope=col>&lt;dbl&gt;</th><th scope=col>&lt;dbl&gt;</th><th scope=col>&lt;fct&gt;</th><th scope=col>&lt;dbl&gt;</th><th scope=col>&lt;dbl&gt;</th><th scope=col>&lt;dbl&gt;</th><th scope=col>&lt;dbl&gt;</th><th scope=col>&lt;dbl&gt;</th><th scope=col>&lt;dbl&gt;</th><th scope=col>&lt;dbl&gt;</th><th scope=col>&lt;dbl&gt;</th><th scope=col>&lt;dbl&gt;</th><th scope=col>&lt;dbl&gt;</th><th scope=col>&lt;dbl&gt;</th><th scope=col>&lt;dbl[,1]&gt;</th><th scope=col>&lt;dbl[,1]&gt;</th><th scope=col>&lt;dbl[,1]&gt;</th></tr>\n",
       "</thead>\n",
       "<tbody>\n",
       "\t<tr><td>63</td><td>1</td><td>3</td><td>145</td><td>233</td><td>1</td><td>0</td><td>150</td><td>0</td><td>2.3</td><td>0</td><td>0</td><td>1</td><td>1</td><td>-0.25591036</td><td>1.0855423</td><td>0.01541728</td></tr>\n",
       "\t<tr><td>37</td><td>1</td><td>2</td><td>130</td><td>250</td><td>0</td><td>1</td><td>187</td><td>0</td><td>3.5</td><td>0</td><td>0</td><td>2</td><td>1</td><td> 0.07208025</td><td>2.1190672</td><td>1.63077374</td></tr>\n",
       "\t<tr><td>41</td><td>0</td><td>1</td><td>130</td><td>204</td><td>0</td><td>0</td><td>172</td><td>0</td><td>1.4</td><td>2</td><td>0</td><td>2</td><td>1</td><td>-0.81542377</td><td>0.3103986</td><td>0.97589950</td></tr>\n",
       "\t<tr><td>⋮</td><td>⋮</td><td>⋮</td><td>⋮</td><td>⋮</td><td>⋮</td><td>⋮</td><td>⋮</td><td>⋮</td><td>⋮</td><td>⋮</td><td>⋮</td><td>⋮</td><td>⋮</td><td>⋮</td><td>⋮</td><td>⋮</td></tr>\n",
       "\t<tr><td>68</td><td>1</td><td>0</td><td>144</td><td>193</td><td>1</td><td>1</td><td>141</td><td>0</td><td>3.4</td><td>1</td><td>2</td><td>3</td><td>0</td><td>-1.0276530</td><td> 2.0329402</td><td>-0.3775073</td></tr>\n",
       "\t<tr><td>57</td><td>1</td><td>0</td><td>130</td><td>131</td><td>0</td><td>1</td><td>115</td><td>1</td><td>1.2</td><td>1</td><td>1</td><td>3</td><td>0</td><td>-2.2238541</td><td> 0.1381444</td><td>-1.5126226</td></tr>\n",
       "\t<tr><td>57</td><td>0</td><td>1</td><td>130</td><td>236</td><td>0</td><td>0</td><td>174</td><td>0</td><td>0.0</td><td>1</td><td>1</td><td>2</td><td>0</td><td>-0.1980297</td><td>-0.8953805</td><td> 1.0632161</td></tr>\n",
       "</tbody>\n",
       "</table>\n"
      ],
      "text/latex": [
       "A tibble: 303 × 17\n",
       "\\begin{tabular}{lllllllllllllllll}\n",
       " age & sex & cp & trestbps & chol & fbs & restecg & thalach & exang & oldpeak & slope & ca & thal & target & scaled\\_chol & scaled\\_oldpeak & scaled\\_thalach\\\\\n",
       " <dbl> & <dbl> & <fct> & <dbl> & <dbl> & <dbl> & <dbl> & <dbl> & <dbl> & <dbl> & <dbl> & <dbl> & <dbl> & <dbl> & <dbl{[},1{]}> & <dbl{[},1{]}> & <dbl{[},1{]}>\\\\\n",
       "\\hline\n",
       "\t 63 & 1 & 3 & 145 & 233 & 1 & 0 & 150 & 0 & 2.3 & 0 & 0 & 1 & 1 & -0.25591036 & 1.0855423 & 0.01541728\\\\\n",
       "\t 37 & 1 & 2 & 130 & 250 & 0 & 1 & 187 & 0 & 3.5 & 0 & 0 & 2 & 1 &  0.07208025 & 2.1190672 & 1.63077374\\\\\n",
       "\t 41 & 0 & 1 & 130 & 204 & 0 & 0 & 172 & 0 & 1.4 & 2 & 0 & 2 & 1 & -0.81542377 & 0.3103986 & 0.97589950\\\\\n",
       "\t ⋮ & ⋮ & ⋮ & ⋮ & ⋮ & ⋮ & ⋮ & ⋮ & ⋮ & ⋮ & ⋮ & ⋮ & ⋮ & ⋮ & ⋮ & ⋮ & ⋮\\\\\n",
       "\t 68 & 1 & 0 & 144 & 193 & 1 & 1 & 141 & 0 & 3.4 & 1 & 2 & 3 & 0 & -1.0276530 &  2.0329402 & -0.3775073\\\\\n",
       "\t 57 & 1 & 0 & 130 & 131 & 0 & 1 & 115 & 1 & 1.2 & 1 & 1 & 3 & 0 & -2.2238541 &  0.1381444 & -1.5126226\\\\\n",
       "\t 57 & 0 & 1 & 130 & 236 & 0 & 0 & 174 & 0 & 0.0 & 1 & 1 & 2 & 0 & -0.1980297 & -0.8953805 &  1.0632161\\\\\n",
       "\\end{tabular}\n"
      ],
      "text/markdown": [
       "\n",
       "A tibble: 303 × 17\n",
       "\n",
       "| age &lt;dbl&gt; | sex &lt;dbl&gt; | cp &lt;fct&gt; | trestbps &lt;dbl&gt; | chol &lt;dbl&gt; | fbs &lt;dbl&gt; | restecg &lt;dbl&gt; | thalach &lt;dbl&gt; | exang &lt;dbl&gt; | oldpeak &lt;dbl&gt; | slope &lt;dbl&gt; | ca &lt;dbl&gt; | thal &lt;dbl&gt; | target &lt;dbl&gt; | scaled_chol &lt;dbl[,1]&gt; | scaled_oldpeak &lt;dbl[,1]&gt; | scaled_thalach &lt;dbl[,1]&gt; |\n",
       "|---|---|---|---|---|---|---|---|---|---|---|---|---|---|---|---|---|\n",
       "| 63 | 1 | 3 | 145 | 233 | 1 | 0 | 150 | 0 | 2.3 | 0 | 0 | 1 | 1 | -0.25591036 | 1.0855423 | 0.01541728 |\n",
       "| 37 | 1 | 2 | 130 | 250 | 0 | 1 | 187 | 0 | 3.5 | 0 | 0 | 2 | 1 |  0.07208025 | 2.1190672 | 1.63077374 |\n",
       "| 41 | 0 | 1 | 130 | 204 | 0 | 0 | 172 | 0 | 1.4 | 2 | 0 | 2 | 1 | -0.81542377 | 0.3103986 | 0.97589950 |\n",
       "| ⋮ | ⋮ | ⋮ | ⋮ | ⋮ | ⋮ | ⋮ | ⋮ | ⋮ | ⋮ | ⋮ | ⋮ | ⋮ | ⋮ | ⋮ | ⋮ | ⋮ |\n",
       "| 68 | 1 | 0 | 144 | 193 | 1 | 1 | 141 | 0 | 3.4 | 1 | 2 | 3 | 0 | -1.0276530 |  2.0329402 | -0.3775073 |\n",
       "| 57 | 1 | 0 | 130 | 131 | 0 | 1 | 115 | 1 | 1.2 | 1 | 1 | 3 | 0 | -2.2238541 |  0.1381444 | -1.5126226 |\n",
       "| 57 | 0 | 1 | 130 | 236 | 0 | 0 | 174 | 0 | 0.0 | 1 | 1 | 2 | 0 | -0.1980297 | -0.8953805 |  1.0632161 |\n",
       "\n"
      ],
      "text/plain": [
       "    age sex cp trestbps chol fbs restecg thalach exang oldpeak slope ca thal\n",
       "1   63  1   3  145      233  1   0       150     0     2.3     0     0  1   \n",
       "2   37  1   2  130      250  0   1       187     0     3.5     0     0  2   \n",
       "3   41  0   1  130      204  0   0       172     0     1.4     2     0  2   \n",
       "⋮   ⋮   ⋮   ⋮  ⋮        ⋮    ⋮   ⋮       ⋮       ⋮     ⋮       ⋮     ⋮  ⋮   \n",
       "301 68  1   0  144      193  1   1       141     0     3.4     1     2  3   \n",
       "302 57  1   0  130      131  0   1       115     1     1.2     1     1  3   \n",
       "303 57  0   1  130      236  0   0       174     0     0.0     1     1  2   \n",
       "    target scaled_chol scaled_oldpeak scaled_thalach\n",
       "1   1      -0.25591036 1.0855423      0.01541728    \n",
       "2   1       0.07208025 2.1190672      1.63077374    \n",
       "3   1      -0.81542377 0.3103986      0.97589950    \n",
       "⋮   ⋮      ⋮           ⋮              ⋮             \n",
       "301 0      -1.0276530   2.0329402     -0.3775073    \n",
       "302 0      -2.2238541   0.1381444     -1.5126226    \n",
       "303 0      -0.1980297  -0.8953805      1.0632161    "
      ]
     },
     "metadata": {},
     "output_type": "display_data"
    }
   ],
   "source": [
    "heart_disease<- read_csv(file = \"https://raw.githubusercontent.com/Chr1zz-D/dsci-100-demo/main/heart-disease.csv\")\n",
    "heart_disease <- mutate(heart_disease, cp= as_factor(cp))\n",
    "heart_disease_scaled<-heart_disease |>\n",
    "mutate (scaled_chol= scale(chol, center= TRUE),\n",
    "       scaled_oldpeak= scale(oldpeak, center=TRUE),\n",
    "       scaled_thalach=scale(thalach, center= TRUE) )\n",
    "\n",
    "heart_disease_scaled"
   ]
  },
  {
   "cell_type": "code",
   "execution_count": 17,
   "id": "a0675668-ce6a-493c-9a3d-3b94f1ae6418",
   "metadata": {},
   "outputs": [
    {
     "data": {
      "image/png": "[encoded data removed]",
      "text/plain": [
       "plot without title"
      ]
     },
     "metadata": {
      "image/png": {
       "height": 420,
       "width": 420
      }
     },
     "output_type": "display_data"
    }
   ],
   "source": [
    "thalach_vs_chol_plot <- ggplot(heart_disease_scaled, aes(x=scaled_chol, y=scaled_thalach,color=cp, shape=cp)) + geom_point() +\n",
    "labs(x=\"serum cholestoral in mg/dl\",y=\"maximum heart rate achieved\", shape=\"chest pain type\",color=\"chest pain type\")\n",
    "thalach_vs_chol_plot"
   ]
  },
  {
   "cell_type": "code",
   "execution_count": 13,
   "id": "7215b725-c5b3-4df5-9ddd-a37a3cecd7e3",
   "metadata": {},
   "outputs": [
    {
     "data": {
      "text/html": [
       "<table class=\"dataframe\">\n",
       "<caption>A tibble: 151 × 14</caption>\n",
       "<thead>\n",
       "\t<tr><th scope=col>age</th><th scope=col>sex</th><th scope=col>cp</th><th scope=col>trestbps</th><th scope=col>chol</th><th scope=col>fbs</th><th scope=col>restecg</th><th scope=col>thalach</th><th scope=col>exang</th><th scope=col>oldpeak</th><th scope=col>slope</th><th scope=col>ca</th><th scope=col>thal</th><th scope=col>target</th></tr>\n",
       "\t<tr><th scope=col>&lt;dbl&gt;</th><th scope=col>&lt;dbl&gt;</th><th scope=col>&lt;fct&gt;</th><th scope=col>&lt;dbl&gt;</th><th scope=col>&lt;dbl&gt;</th><th scope=col>&lt;dbl&gt;</th><th scope=col>&lt;dbl&gt;</th><th scope=col>&lt;dbl&gt;</th><th scope=col>&lt;dbl&gt;</th><th scope=col>&lt;dbl&gt;</th><th scope=col>&lt;dbl&gt;</th><th scope=col>&lt;dbl&gt;</th><th scope=col>&lt;dbl&gt;</th><th scope=col>&lt;dbl&gt;</th></tr>\n",
       "</thead>\n",
       "<tbody>\n",
       "\t<tr><td>57</td><td>0</td><td>0</td><td>120</td><td>354</td><td>0</td><td>1</td><td>163</td><td>1</td><td>0.6</td><td>2</td><td>0</td><td>2</td><td>1</td></tr>\n",
       "\t<tr><td>57</td><td>1</td><td>0</td><td>140</td><td>192</td><td>0</td><td>1</td><td>148</td><td>0</td><td>0.4</td><td>1</td><td>0</td><td>1</td><td>1</td></tr>\n",
       "\t<tr><td>69</td><td>0</td><td>3</td><td>140</td><td>239</td><td>0</td><td>1</td><td>151</td><td>0</td><td>1.8</td><td>2</td><td>2</td><td>2</td><td>1</td></tr>\n",
       "\t<tr><td>⋮</td><td>⋮</td><td>⋮</td><td>⋮</td><td>⋮</td><td>⋮</td><td>⋮</td><td>⋮</td><td>⋮</td><td>⋮</td><td>⋮</td><td>⋮</td><td>⋮</td><td>⋮</td></tr>\n",
       "\t<tr><td>69</td><td>1</td><td>2</td><td>140</td><td>254</td><td>0</td><td>0</td><td>146</td><td>0</td><td>2.0</td><td>1</td><td>3</td><td>3</td><td>0</td></tr>\n",
       "\t<tr><td>59</td><td>1</td><td>2</td><td>126</td><td>218</td><td>1</td><td>1</td><td>134</td><td>0</td><td>2.2</td><td>1</td><td>1</td><td>1</td><td>0</td></tr>\n",
       "\t<tr><td>67</td><td>1</td><td>2</td><td>152</td><td>212</td><td>0</td><td>0</td><td>150</td><td>0</td><td>0.8</td><td>1</td><td>0</td><td>3</td><td>0</td></tr>\n",
       "</tbody>\n",
       "</table>\n"
      ],
      "text/latex": [
       "A tibble: 151 × 14\n",
       "\\begin{tabular}{llllllllllllll}\n",
       " age & sex & cp & trestbps & chol & fbs & restecg & thalach & exang & oldpeak & slope & ca & thal & target\\\\\n",
       " <dbl> & <dbl> & <fct> & <dbl> & <dbl> & <dbl> & <dbl> & <dbl> & <dbl> & <dbl> & <dbl> & <dbl> & <dbl> & <dbl>\\\\\n",
       "\\hline\n",
       "\t 57 & 0 & 0 & 120 & 354 & 0 & 1 & 163 & 1 & 0.6 & 2 & 0 & 2 & 1\\\\\n",
       "\t 57 & 1 & 0 & 140 & 192 & 0 & 1 & 148 & 0 & 0.4 & 1 & 0 & 1 & 1\\\\\n",
       "\t 69 & 0 & 3 & 140 & 239 & 0 & 1 & 151 & 0 & 1.8 & 2 & 2 & 2 & 1\\\\\n",
       "\t ⋮ & ⋮ & ⋮ & ⋮ & ⋮ & ⋮ & ⋮ & ⋮ & ⋮ & ⋮ & ⋮ & ⋮ & ⋮ & ⋮\\\\\n",
       "\t 69 & 1 & 2 & 140 & 254 & 0 & 0 & 146 & 0 & 2.0 & 1 & 3 & 3 & 0\\\\\n",
       "\t 59 & 1 & 2 & 126 & 218 & 1 & 1 & 134 & 0 & 2.2 & 1 & 1 & 1 & 0\\\\\n",
       "\t 67 & 1 & 2 & 152 & 212 & 0 & 0 & 150 & 0 & 0.8 & 1 & 0 & 3 & 0\\\\\n",
       "\\end{tabular}\n"
      ],
      "text/markdown": [
       "\n",
       "A tibble: 151 × 14\n",
       "\n",
       "| age &lt;dbl&gt; | sex &lt;dbl&gt; | cp &lt;fct&gt; | trestbps &lt;dbl&gt; | chol &lt;dbl&gt; | fbs &lt;dbl&gt; | restecg &lt;dbl&gt; | thalach &lt;dbl&gt; | exang &lt;dbl&gt; | oldpeak &lt;dbl&gt; | slope &lt;dbl&gt; | ca &lt;dbl&gt; | thal &lt;dbl&gt; | target &lt;dbl&gt; |\n",
       "|---|---|---|---|---|---|---|---|---|---|---|---|---|---|\n",
       "| 57 | 0 | 0 | 120 | 354 | 0 | 1 | 163 | 1 | 0.6 | 2 | 0 | 2 | 1 |\n",
       "| 57 | 1 | 0 | 140 | 192 | 0 | 1 | 148 | 0 | 0.4 | 1 | 0 | 1 | 1 |\n",
       "| 69 | 0 | 3 | 140 | 239 | 0 | 1 | 151 | 0 | 1.8 | 2 | 2 | 2 | 1 |\n",
       "| ⋮ | ⋮ | ⋮ | ⋮ | ⋮ | ⋮ | ⋮ | ⋮ | ⋮ | ⋮ | ⋮ | ⋮ | ⋮ | ⋮ |\n",
       "| 69 | 1 | 2 | 140 | 254 | 0 | 0 | 146 | 0 | 2.0 | 1 | 3 | 3 | 0 |\n",
       "| 59 | 1 | 2 | 126 | 218 | 1 | 1 | 134 | 0 | 2.2 | 1 | 1 | 1 | 0 |\n",
       "| 67 | 1 | 2 | 152 | 212 | 0 | 0 | 150 | 0 | 0.8 | 1 | 0 | 3 | 0 |\n",
       "\n"
      ],
      "text/plain": [
       "    age sex cp trestbps chol fbs restecg thalach exang oldpeak slope ca thal\n",
       "1   57  0   0  120      354  0   1       163     1     0.6     2     0  2   \n",
       "2   57  1   0  140      192  0   1       148     0     0.4     1     0  1   \n",
       "3   69  0   3  140      239  0   1       151     0     1.8     2     2  2   \n",
       "⋮   ⋮   ⋮   ⋮  ⋮        ⋮    ⋮   ⋮       ⋮       ⋮     ⋮       ⋮     ⋮  ⋮   \n",
       "149 69  1   2  140      254  0   0       146     0     2.0     1     3  3   \n",
       "150 59  1   2  126      218  1   1       134     0     2.2     1     1  1   \n",
       "151 67  1   2  152      212  0   0       150     0     0.8     1     0  3   \n",
       "    target\n",
       "1   1     \n",
       "2   1     \n",
       "3   1     \n",
       "⋮   ⋮     \n",
       "149 0     \n",
       "150 0     \n",
       "151 0     "
      ]
     },
     "metadata": {},
     "output_type": "display_data"
    },
    {
     "data": {
      "text/html": [
       "<table class=\"dataframe\">\n",
       "<caption>A tibble: 152 × 14</caption>\n",
       "<thead>\n",
       "\t<tr><th scope=col>age</th><th scope=col>sex</th><th scope=col>cp</th><th scope=col>trestbps</th><th scope=col>chol</th><th scope=col>fbs</th><th scope=col>restecg</th><th scope=col>thalach</th><th scope=col>exang</th><th scope=col>oldpeak</th><th scope=col>slope</th><th scope=col>ca</th><th scope=col>thal</th><th scope=col>target</th></tr>\n",
       "\t<tr><th scope=col>&lt;dbl&gt;</th><th scope=col>&lt;dbl&gt;</th><th scope=col>&lt;fct&gt;</th><th scope=col>&lt;dbl&gt;</th><th scope=col>&lt;dbl&gt;</th><th scope=col>&lt;dbl&gt;</th><th scope=col>&lt;dbl&gt;</th><th scope=col>&lt;dbl&gt;</th><th scope=col>&lt;dbl&gt;</th><th scope=col>&lt;dbl&gt;</th><th scope=col>&lt;dbl&gt;</th><th scope=col>&lt;dbl&gt;</th><th scope=col>&lt;dbl&gt;</th><th scope=col>&lt;dbl&gt;</th></tr>\n",
       "</thead>\n",
       "<tbody>\n",
       "\t<tr><td>63</td><td>1</td><td>3</td><td>145</td><td>233</td><td>1</td><td>0</td><td>150</td><td>0</td><td>2.3</td><td>0</td><td>0</td><td>1</td><td>1</td></tr>\n",
       "\t<tr><td>44</td><td>1</td><td>1</td><td>120</td><td>263</td><td>0</td><td>1</td><td>173</td><td>0</td><td>0.0</td><td>2</td><td>0</td><td>3</td><td>1</td></tr>\n",
       "\t<tr><td>52</td><td>1</td><td>2</td><td>172</td><td>199</td><td>1</td><td>1</td><td>162</td><td>0</td><td>0.5</td><td>2</td><td>0</td><td>3</td><td>1</td></tr>\n",
       "\t<tr><td>⋮</td><td>⋮</td><td>⋮</td><td>⋮</td><td>⋮</td><td>⋮</td><td>⋮</td><td>⋮</td><td>⋮</td><td>⋮</td><td>⋮</td><td>⋮</td><td>⋮</td><td>⋮</td></tr>\n",
       "\t<tr><td>63</td><td>1</td><td>0</td><td>140</td><td>187</td><td>0</td><td>0</td><td>144</td><td>1</td><td>4.0</td><td>2</td><td>2</td><td>3</td><td>0</td></tr>\n",
       "\t<tr><td>57</td><td>0</td><td>0</td><td>140</td><td>241</td><td>0</td><td>1</td><td>123</td><td>1</td><td>0.2</td><td>1</td><td>0</td><td>3</td><td>0</td></tr>\n",
       "\t<tr><td>57</td><td>0</td><td>1</td><td>130</td><td>236</td><td>0</td><td>0</td><td>174</td><td>0</td><td>0.0</td><td>1</td><td>1</td><td>2</td><td>0</td></tr>\n",
       "</tbody>\n",
       "</table>\n"
      ],
      "text/latex": [
       "A tibble: 152 × 14\n",
       "\\begin{tabular}{llllllllllllll}\n",
       " age & sex & cp & trestbps & chol & fbs & restecg & thalach & exang & oldpeak & slope & ca & thal & target\\\\\n",
       " <dbl> & <dbl> & <fct> & <dbl> & <dbl> & <dbl> & <dbl> & <dbl> & <dbl> & <dbl> & <dbl> & <dbl> & <dbl> & <dbl>\\\\\n",
       "\\hline\n",
       "\t 63 & 1 & 3 & 145 & 233 & 1 & 0 & 150 & 0 & 2.3 & 0 & 0 & 1 & 1\\\\\n",
       "\t 44 & 1 & 1 & 120 & 263 & 0 & 1 & 173 & 0 & 0.0 & 2 & 0 & 3 & 1\\\\\n",
       "\t 52 & 1 & 2 & 172 & 199 & 1 & 1 & 162 & 0 & 0.5 & 2 & 0 & 3 & 1\\\\\n",
       "\t ⋮ & ⋮ & ⋮ & ⋮ & ⋮ & ⋮ & ⋮ & ⋮ & ⋮ & ⋮ & ⋮ & ⋮ & ⋮ & ⋮\\\\\n",
       "\t 63 & 1 & 0 & 140 & 187 & 0 & 0 & 144 & 1 & 4.0 & 2 & 2 & 3 & 0\\\\\n",
       "\t 57 & 0 & 0 & 140 & 241 & 0 & 1 & 123 & 1 & 0.2 & 1 & 0 & 3 & 0\\\\\n",
       "\t 57 & 0 & 1 & 130 & 236 & 0 & 0 & 174 & 0 & 0.0 & 1 & 1 & 2 & 0\\\\\n",
       "\\end{tabular}\n"
      ],
      "text/markdown": [
       "\n",
       "A tibble: 152 × 14\n",
       "\n",
       "| age &lt;dbl&gt; | sex &lt;dbl&gt; | cp &lt;fct&gt; | trestbps &lt;dbl&gt; | chol &lt;dbl&gt; | fbs &lt;dbl&gt; | restecg &lt;dbl&gt; | thalach &lt;dbl&gt; | exang &lt;dbl&gt; | oldpeak &lt;dbl&gt; | slope &lt;dbl&gt; | ca &lt;dbl&gt; | thal &lt;dbl&gt; | target &lt;dbl&gt; |\n",
       "|---|---|---|---|---|---|---|---|---|---|---|---|---|---|\n",
       "| 63 | 1 | 3 | 145 | 233 | 1 | 0 | 150 | 0 | 2.3 | 0 | 0 | 1 | 1 |\n",
       "| 44 | 1 | 1 | 120 | 263 | 0 | 1 | 173 | 0 | 0.0 | 2 | 0 | 3 | 1 |\n",
       "| 52 | 1 | 2 | 172 | 199 | 1 | 1 | 162 | 0 | 0.5 | 2 | 0 | 3 | 1 |\n",
       "| ⋮ | ⋮ | ⋮ | ⋮ | ⋮ | ⋮ | ⋮ | ⋮ | ⋮ | ⋮ | ⋮ | ⋮ | ⋮ | ⋮ |\n",
       "| 63 | 1 | 0 | 140 | 187 | 0 | 0 | 144 | 1 | 4.0 | 2 | 2 | 3 | 0 |\n",
       "| 57 | 0 | 0 | 140 | 241 | 0 | 1 | 123 | 1 | 0.2 | 1 | 0 | 3 | 0 |\n",
       "| 57 | 0 | 1 | 130 | 236 | 0 | 0 | 174 | 0 | 0.0 | 1 | 1 | 2 | 0 |\n",
       "\n"
      ],
      "text/plain": [
       "    age sex cp trestbps chol fbs restecg thalach exang oldpeak slope ca thal\n",
       "1   63  1   3  145      233  1   0       150     0     2.3     0     0  1   \n",
       "2   44  1   1  120      263  0   1       173     0     0.0     2     0  3   \n",
       "3   52  1   2  172      199  1   1       162     0     0.5     2     0  3   \n",
       "⋮   ⋮   ⋮   ⋮  ⋮        ⋮    ⋮   ⋮       ⋮       ⋮     ⋮       ⋮     ⋮  ⋮   \n",
       "150 63  1   0  140      187  0   0       144     1     4.0     2     2  3   \n",
       "151 57  0   0  140      241  0   1       123     1     0.2     1     0  3   \n",
       "152 57  0   1  130      236  0   0       174     0     0.0     1     1  2   \n",
       "    target\n",
       "1   1     \n",
       "2   1     \n",
       "3   1     \n",
       "⋮   ⋮     \n",
       "150 0     \n",
       "151 0     \n",
       "152 0     "
      ]
     },
     "metadata": {},
     "output_type": "display_data"
    }
   ],
   "source": [
    "heart_disease_split <- initial_split(heart_disease, prop = 0.5, strata = cp)  \n",
    "heart_disease_train <- training(heart_disease_split)   \n",
    "heart_disease_test <- testing(heart_disease_split) \n",
    "heart_disease_train\n",
    "heart_disease_test"
   ]
  },
  {
   "cell_type": "code",
   "execution_count": 14,
   "id": "dbe26786-d8b1-4ed8-a794-a2ce84d7e1c9",
   "metadata": {},
   "outputs": [
    {
     "data": {
      "text/plain": [
       "Recipe\n",
       "\n",
       "Inputs:\n",
       "\n",
       "      role #variables\n",
       "   outcome          1\n",
       " predictor          2\n",
       "\n",
       "Operations:\n",
       "\n",
       "Scaling for all_predictors()\n",
       "Centering for all_predictors()"
      ]
     },
     "metadata": {},
     "output_type": "display_data"
    }
   ],
   "source": [
    "heart_disease_recipe <- recipe(cp ~ chol + thalach , data = heart_disease_train) |>\n",
    "step_scale(all_predictors()) |>\n",
    "step_center(all_predictors()) \n",
    "heart_disease_recipe"
   ]
  },
  {
   "cell_type": "code",
   "execution_count": 15,
   "id": "7218fcce-d71b-4994-ad95-ed6bd295c2dc",
   "metadata": {},
   "outputs": [
    {
     "data": {
      "text/html": [
       "151"
      ],
      "text/latex": [
       "151"
      ],
      "text/markdown": [
       "151"
      ],
      "text/plain": [
       "[1] 151"
      ]
     },
     "metadata": {},
     "output_type": "display_data"
    }
   ],
   "source": [
    "number_of_rows <- nrow(heart_disease_train) \n",
    "number_of_rows"
   ]
  },
  {
   "cell_type": "code",
   "execution_count": 16,
   "id": "36594efe-e7ae-4961-862e-991d7c626990",
   "metadata": {},
   "outputs": [
    {
     "data": {
      "text/html": [
       "<table class=\"dataframe\">\n",
       "<caption>A tibble: 4 × 2</caption>\n",
       "<thead>\n",
       "\t<tr><th scope=col>cp</th><th scope=col>count</th></tr>\n",
       "\t<tr><th scope=col>&lt;fct&gt;</th><th scope=col>&lt;int&gt;</th></tr>\n",
       "</thead>\n",
       "<tbody>\n",
       "\t<tr><td>0</td><td>66</td></tr>\n",
       "\t<tr><td>1</td><td>23</td></tr>\n",
       "\t<tr><td>2</td><td>44</td></tr>\n",
       "\t<tr><td>3</td><td>18</td></tr>\n",
       "</tbody>\n",
       "</table>\n"
      ],
      "text/latex": [
       "A tibble: 4 × 2\n",
       "\\begin{tabular}{ll}\n",
       " cp & count\\\\\n",
       " <fct> & <int>\\\\\n",
       "\\hline\n",
       "\t 0 & 66\\\\\n",
       "\t 1 & 23\\\\\n",
       "\t 2 & 44\\\\\n",
       "\t 3 & 18\\\\\n",
       "\\end{tabular}\n"
      ],
      "text/markdown": [
       "\n",
       "A tibble: 4 × 2\n",
       "\n",
       "| cp &lt;fct&gt; | count &lt;int&gt; |\n",
       "|---|---|\n",
       "| 0 | 66 |\n",
       "| 1 | 23 |\n",
       "| 2 | 44 |\n",
       "| 3 | 18 |\n",
       "\n"
      ],
      "text/plain": [
       "  cp count\n",
       "1 0  66   \n",
       "2 1  23   \n",
       "3 2  44   \n",
       "4 3  18   "
      ]
     },
     "metadata": {},
     "output_type": "display_data"
    }
   ],
   "source": [
    "counts<- heart_disease_train |> group_by(cp)|>\n",
    "summarize(count=n())\n",
    "counts"
   ]
  },
  {
   "cell_type": "markdown",
   "id": "a57beb3a-9721-4bd9-8bef-fe9fecfc8d56",
   "metadata": {},
   "source": [
    "Methods:\n",
    "We use functions from the tidyverse library to process the data frames and Tibbles. repr is used to resize the plots in this notebook, such as \n",
    "the \"accuracy vs. K\" plot. Also, we use the tidymodels library to streamline machine learning workflows. By further entering the data, we focused on \n",
    "(age, type of chest pain, resting blood pressure, serum cholesterol, fasting glucose, resting ECG results, maximum heart rate achieved, exercise-induced angina, \n",
    "exercise-induced ST-segment depression, slope of peak ST-segment on exercise, number of significant vessels coloured by fluoroscopy, diagnosis of thalassemia and heart \n",
    "disease) we could further filter out the eligible. Then we can try to filter out people diagnosed with \"heart disease\" according to the \n",
    "k-nearest neighbour classification algorithm and compare it with the fact (whether the diagnosis is heart disease) to verify the feasibility of this function. Thus we have a new filtered dataset with the listed essential columns. To combine our datasets(standard and listed), we used brand, which combines the rows from the standard dataset with those from the listed dataset. This process is similar to stacking datasets together. Then we make balancing the datasets; balancing data can also affect our classification model if a particular item is heavily overrepresented compared to other categories. After that, we will visualize to see which value of k will be optimal for our model. \n"
   ]
  },
  {
   "cell_type": "markdown",
   "id": "e5af5e31-3f94-4ee2-95a0-bd01c66c3f61",
   "metadata": {},
   "source": [
    "Expected outcomes and significance: From the predict model, predicting chest pain type based on maximum heart rate achieved(thalach）and serum cholesterol levels(chol) can provide valuable insights into determining the type of heart disease.   By utilizing accessible indexes, healthcare professionals can make informed decisions and provide appropriate care for patients.   Chest pain is a common symptom associated with various types of heart diseases.    It can indicate different underlying conditions, such as coronary artery disease, myocardial infarction (heart attack), or other cardiac abnormalities.    By predicting the chest pain type based on readily available measures such as maximum heart rate achieved, healthcare providers can gain initial insights into the potential heart disease diagnosis and guide further investigations.   For the future questions, we may include other accessible variables, such as age, smoking status, or family history of heart disease, could improve the accuracy and reliability of the prediction model."
   ]
  }
 ],
 "metadata": {
  "kernelspec": {
   "display_name": "R",
   "language": "R",
   "name": "ir"
  },
  "language_info": {
   "codemirror_mode": "r",
   "file_extension": ".r",
   "mimetype": "text/x-r-source",
   "name": "R",
   "pygments_lexer": "r",
   "version": "4.1.3"
  }
 },
 "nbformat": 4,
 "nbformat_minor": 5
}
