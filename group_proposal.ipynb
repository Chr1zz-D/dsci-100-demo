{
 "cells": [
  {
   "cell_type": "markdown",
   "id": "03836f00-f251-48a0-95c3-99a1bb06b594",
   "metadata": {},
   "source": [
    "Title: Predicting Heart Disease Using K-nearest Neighbour Classification Algorithm"
   ]
  },
  {
   "cell_type": "markdown",
   "id": "0c533b88-e1ba-4e4a-87a8-8b751d2381fd",
   "metadata": {},
   "source": [
    "Introduction:\n",
    "Heart disease is a leading cause of death worldwide. This project seeks to answer the question: \"Can we use k-nearest neighbour classification algorithm techniques to predict the presence of heart disease in a patient based on various health indicators?\" We plan to use the Cleveland Heart Disease Database from the UCI Machine Learning Repository. This database includes 303 instances and 14 attributes, including demographic, symptom, and test result data. However, we will focus on: age, chest pain type, resting blood pressure, serum cholesterol, fasting blood sugar, resting EKG results, maximum heart rate achieved, exercise-induced angina, ST depression induced by exercise, slope of the peak exercise ST segment, number of major vessels colored by fluoroscopy, thalassemia, and diagnosis of heart disease. These attributes are important factors which may relate to the heart-disease."
   ]
  },
  {
   "cell_type": "markdown",
   "id": "e5af5e31-3f94-4ee2-95a0-bd01c66c3f61",
   "metadata": {},
   "source": [
    "Expected outcomes and significance: From the predict model, predicting chest pain type based on maximum heart rate achieved(thalach）and serum cholesterol levels(chol) can provide valuable insights into determining the type of heart disease.   By utilizing accessible indexes, healthcare professionals can make informed decisions and provide appropriate care for patients.   Chest pain is a common symptom associated with various types of heart diseases.    It can indicate different underlying conditions, such as coronary artery disease, myocardial infarction (heart attack), or other cardiac abnormalities.    By predicting the chest pain type based on readily available measures such as maximum heart rate achieved, healthcare providers can gain initial insights into the potential heart disease diagnosis and guide further investigations.   For the future questions, we may include other accessible variables, such as age, smoking status, or family history of heart disease, could improve the accuracy and reliability of the prediction model."
   ]
  },
  {
   "cell_type": "code",
   "execution_count": null,
   "id": "a4a30fe5-9072-4618-b106-0a48da34df58",
   "metadata": {},
   "outputs": [],
   "source": []
  }
 ],
 "metadata": {
  "kernelspec": {
   "display_name": "R",
   "language": "R",
   "name": "ir"
  },
  "language_info": {
   "codemirror_mode": "r",
   "file_extension": ".r",
   "mimetype": "text/x-r-source",
   "name": "R",
   "pygments_lexer": "r",
   "version": "4.1.3"
  }
 },
 "nbformat": 4,
 "nbformat_minor": 5
}
